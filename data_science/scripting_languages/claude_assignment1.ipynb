{
 "cells": [
  {
   "cell_type": "code",
   "execution_count": null,
   "metadata": {},
   "outputs": [],
   "source": [
    "# %% imports\n",
    "import pandas as pd\n",
    "import matplotlib.pyplot as plt\n"
   ]
  },
  {
   "cell_type": "code",
   "execution_count": null,
   "metadata": {},
   "outputs": [],
   "source": [
    "# %% create DataFrame and add Total_Sales\n",
    "df = pd.read_csv(\"data/sales_data.csv\")\n",
    "df[\"Total_Sales\"] = df.Units_Sold * df.Unit_Price\n",
    "df\n"
   ]
  },
  {
   "cell_type": "code",
   "execution_count": null,
   "metadata": {},
   "outputs": [],
   "source": [
    "# %% a+b. Calculate the total sales / best selling for each product\n",
    "product_data = df.groupby(\"Product\").agg({\n",
    "    \"Total_Sales\": \"sum\",\n",
    "    \"Units_Sold\": \"sum\"\n",
    "})\n",
    "\n",
    "total_sales = product_data.Total_Sales\n",
    "\n",
    "best_selling = product_data.Units_Sold.idxmax()\n"
   ]
  },
  {
   "cell_type": "code",
   "execution_count": null,
   "metadata": {},
   "outputs": [],
   "source": [
    "# %% c. Find the region with the highest total sales.\n",
    "region_total_sales = df.groupby(\"Region\")[\"Total_Sales\"].sum().idxmax()\n",
    "region_total_sales\n"
   ]
  },
  {
   "cell_type": "code",
   "execution_count": null,
   "metadata": {},
   "outputs": [],
   "source": [
    "# %% d. Create a daily sales trend (total sales per day)\n",
    "sales_trend = df.groupby(\"Date\")[\"Total_Sales\"].sum()\n",
    "sales_trend.plot(x=\"Date\", y=\"Total Sales\")\n"
   ]
  },
  {
   "cell_type": "code",
   "execution_count": null,
   "metadata": {},
   "outputs": [],
   "source": [
    "# %% e. Identify the day with the highest total sales.\n",
    "sales_trend.idxmax()\n"
   ]
  }
 ],
 "metadata": {
  "kernelspec": {
   "display_name": "base",
   "language": "python",
   "name": "python3"
  },
  "language_info": {
   "codemirror_mode": {
    "name": "ipython",
    "version": 3
   },
   "file_extension": ".py",
   "mimetype": "text/x-python",
   "name": "python",
   "nbconvert_exporter": "python",
   "pygments_lexer": "ipython3",
   "version": "3.11.9"
  }
 },
 "nbformat": 4,
 "nbformat_minor": 2
}
