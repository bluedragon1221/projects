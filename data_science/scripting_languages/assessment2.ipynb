{
 "cells": [
  {
   "cell_type": "code",
   "execution_count": 26,
   "metadata": {},
   "outputs": [],
   "source": [
    "from pydantic import BaseModel, Field\n",
    "from decimal import Decimal\n",
    "\n",
    "class RetailItem(BaseModel):\n",
    "    price: Decimal = Field(decimal_places=2, frozen=True)\n",
    "    name: str = Field(frozen=True)\n",
    "    units: int = Field(frozen=True)"
   ]
  },
  {
   "cell_type": "code",
   "execution_count": 34,
   "metadata": {},
   "outputs": [
    {
     "name": "stdout",
     "output_type": "stream",
     "text": [
      "Name: Jacket\n",
      "Units: 12\n",
      "Price: $249.99\n",
      "\n",
      "Name: Jeans\n",
      "Units: 30\n",
      "Price: $199.99\n",
      "\n",
      "Name: Shirt\n",
      "Units: 45\n",
      "Price: $49.99\n",
      "\n"
     ]
    }
   ],
   "source": [
    "retail_items = [\n",
    "    RetailItem(name=\"Jacket\", units=12, price=249.99),\n",
    "    RetailItem(name=\"Jeans\", units=30, price=199.99),\n",
    "    RetailItem(name=\"Shirt\", units=45, price=49.99),\n",
    "]\n",
    "\n",
    "def print_info(item: RetailItem) -> str:\n",
    "    return f\"\"\"Name: {item.name}\n",
    "Units: {item.units}\n",
    "Price: ${item.price}\n",
    "\"\"\"\n",
    "\n",
    "for i in retail_items:\n",
    "    print(print_info(i))"
   ]
  }
 ],
 "metadata": {
  "kernelspec": {
   "display_name": "base",
   "language": "python",
   "name": "python3"
  },
  "language_info": {
   "codemirror_mode": {
    "name": "ipython",
    "version": 3
   },
   "file_extension": ".py",
   "mimetype": "text/x-python",
   "name": "python",
   "nbconvert_exporter": "python",
   "pygments_lexer": "ipython3",
   "version": "3.11.9"
  }
 },
 "nbformat": 4,
 "nbformat_minor": 2
}
