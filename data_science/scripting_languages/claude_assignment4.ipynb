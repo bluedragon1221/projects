{
 "cells": [
  {
   "cell_type": "code",
   "execution_count": 21,
   "metadata": {},
   "outputs": [],
   "source": [
    "import pandas as pd\n",
    "import numpy as np\n",
    "import matplotlib.pyplot as plt\n",
    "import numpy.random as r"
   ]
  },
  {
   "cell_type": "code",
   "execution_count": 3,
   "metadata": {},
   "outputs": [],
   "source": [
    "df = pd.read_csv(\"data/sales_data2.csv\", parse_dates=[\"date\"])"
   ]
  },
  {
   "cell_type": "markdown",
   "metadata": {},
   "source": [
    "## Part 1: Data Exploration\n",
    "1. Display the first 5 rows of the DataFrame.\n",
    "2. Show the basic information about the DataFrame (data types, non-null counts).\n",
    "3. Calculate and display summary statistics for the numerical columns."
   ]
  },
  {
   "cell_type": "code",
   "execution_count": 4,
   "metadata": {},
   "outputs": [
    {
     "data": {
      "text/html": [
       "<div>\n",
       "<style scoped>\n",
       "    .dataframe tbody tr th:only-of-type {\n",
       "        vertical-align: middle;\n",
       "    }\n",
       "\n",
       "    .dataframe tbody tr th {\n",
       "        vertical-align: top;\n",
       "    }\n",
       "\n",
       "    .dataframe thead th {\n",
       "        text-align: right;\n",
       "    }\n",
       "</style>\n",
       "<table border=\"1\" class=\"dataframe\">\n",
       "  <thead>\n",
       "    <tr style=\"text-align: right;\">\n",
       "      <th></th>\n",
       "      <th>date</th>\n",
       "      <th>product</th>\n",
       "      <th>category</th>\n",
       "      <th>quantity</th>\n",
       "      <th>unit_price</th>\n",
       "      <th>total_sales</th>\n",
       "    </tr>\n",
       "  </thead>\n",
       "  <tbody>\n",
       "    <tr>\n",
       "      <th>0</th>\n",
       "      <td>2023-01-15</td>\n",
       "      <td>Laptop</td>\n",
       "      <td>Electronics</td>\n",
       "      <td>5</td>\n",
       "      <td>899.99</td>\n",
       "      <td>4499.95</td>\n",
       "    </tr>\n",
       "    <tr>\n",
       "      <th>1</th>\n",
       "      <td>2023-01-16</td>\n",
       "      <td>T-shirt</td>\n",
       "      <td>Clothing</td>\n",
       "      <td>20</td>\n",
       "      <td>19.99</td>\n",
       "      <td>399.80</td>\n",
       "    </tr>\n",
       "    <tr>\n",
       "      <th>2</th>\n",
       "      <td>2023-01-17</td>\n",
       "      <td>Coffee Maker</td>\n",
       "      <td>Home Appliances</td>\n",
       "      <td>8</td>\n",
       "      <td>59.99</td>\n",
       "      <td>479.92</td>\n",
       "    </tr>\n",
       "    <tr>\n",
       "      <th>3</th>\n",
       "      <td>2023-01-18</td>\n",
       "      <td>Running Shoes</td>\n",
       "      <td>Footwear</td>\n",
       "      <td>12</td>\n",
       "      <td>79.99</td>\n",
       "      <td>959.88</td>\n",
       "    </tr>\n",
       "    <tr>\n",
       "      <th>4</th>\n",
       "      <td>2023-01-19</td>\n",
       "      <td>Smartphone</td>\n",
       "      <td>Electronics</td>\n",
       "      <td>3</td>\n",
       "      <td>599.99</td>\n",
       "      <td>1799.97</td>\n",
       "    </tr>\n",
       "  </tbody>\n",
       "</table>\n",
       "</div>"
      ],
      "text/plain": [
       "        date        product         category  quantity  unit_price  \\\n",
       "0 2023-01-15         Laptop      Electronics         5      899.99   \n",
       "1 2023-01-16        T-shirt         Clothing        20       19.99   \n",
       "2 2023-01-17   Coffee Maker  Home Appliances         8       59.99   \n",
       "3 2023-01-18  Running Shoes         Footwear        12       79.99   \n",
       "4 2023-01-19     Smartphone      Electronics         3      599.99   \n",
       "\n",
       "   total_sales  \n",
       "0      4499.95  \n",
       "1       399.80  \n",
       "2       479.92  \n",
       "3       959.88  \n",
       "4      1799.97  "
      ]
     },
     "metadata": {},
     "output_type": "display_data"
    },
    {
     "name": "stdout",
     "output_type": "stream",
     "text": [
      "<class 'pandas.core.frame.DataFrame'>\n",
      "RangeIndex: 15 entries, 0 to 14\n",
      "Data columns (total 6 columns):\n",
      " #   Column       Non-Null Count  Dtype         \n",
      "---  ------       --------------  -----         \n",
      " 0   date         15 non-null     datetime64[ns]\n",
      " 1   product      15 non-null     object        \n",
      " 2   category     15 non-null     object        \n",
      " 3   quantity     15 non-null     int64         \n",
      " 4   unit_price   15 non-null     float64       \n",
      " 5   total_sales  15 non-null     float64       \n",
      "dtypes: datetime64[ns](1), float64(2), int64(1), object(2)\n",
      "memory usage: 852.0+ bytes\n"
     ]
    },
    {
     "data": {
      "text/html": [
       "<div>\n",
       "<style scoped>\n",
       "    .dataframe tbody tr th:only-of-type {\n",
       "        vertical-align: middle;\n",
       "    }\n",
       "\n",
       "    .dataframe tbody tr th {\n",
       "        vertical-align: top;\n",
       "    }\n",
       "\n",
       "    .dataframe thead th {\n",
       "        text-align: right;\n",
       "    }\n",
       "</style>\n",
       "<table border=\"1\" class=\"dataframe\">\n",
       "  <thead>\n",
       "    <tr style=\"text-align: right;\">\n",
       "      <th></th>\n",
       "      <th>quantity</th>\n",
       "      <th>unit_price</th>\n",
       "      <th>total_sales</th>\n",
       "    </tr>\n",
       "  </thead>\n",
       "  <tbody>\n",
       "    <tr>\n",
       "      <th>count</th>\n",
       "      <td>15.000000</td>\n",
       "      <td>15.000000</td>\n",
       "      <td>15.000000</td>\n",
       "    </tr>\n",
       "    <tr>\n",
       "      <th>mean</th>\n",
       "      <td>10.600000</td>\n",
       "      <td>177.990000</td>\n",
       "      <td>1123.227333</td>\n",
       "    </tr>\n",
       "    <tr>\n",
       "      <th>std</th>\n",
       "      <td>6.378535</td>\n",
       "      <td>249.576785</td>\n",
       "      <td>1053.829201</td>\n",
       "    </tr>\n",
       "    <tr>\n",
       "      <th>min</th>\n",
       "      <td>3.000000</td>\n",
       "      <td>19.990000</td>\n",
       "      <td>329.890000</td>\n",
       "    </tr>\n",
       "    <tr>\n",
       "      <th>25%</th>\n",
       "      <td>6.000000</td>\n",
       "      <td>49.990000</td>\n",
       "      <td>479.930000</td>\n",
       "    </tr>\n",
       "    <tr>\n",
       "      <th>50%</th>\n",
       "      <td>9.000000</td>\n",
       "      <td>79.990000</td>\n",
       "      <td>749.850000</td>\n",
       "    </tr>\n",
       "    <tr>\n",
       "      <th>75%</th>\n",
       "      <td>13.500000</td>\n",
       "      <td>149.990000</td>\n",
       "      <td>1254.785000</td>\n",
       "    </tr>\n",
       "    <tr>\n",
       "      <th>max</th>\n",
       "      <td>25.000000</td>\n",
       "      <td>899.990000</td>\n",
       "      <td>4499.950000</td>\n",
       "    </tr>\n",
       "  </tbody>\n",
       "</table>\n",
       "</div>"
      ],
      "text/plain": [
       "        quantity  unit_price  total_sales\n",
       "count  15.000000   15.000000    15.000000\n",
       "mean   10.600000  177.990000  1123.227333\n",
       "std     6.378535  249.576785  1053.829201\n",
       "min     3.000000   19.990000   329.890000\n",
       "25%     6.000000   49.990000   479.930000\n",
       "50%     9.000000   79.990000   749.850000\n",
       "75%    13.500000  149.990000  1254.785000\n",
       "max    25.000000  899.990000  4499.950000"
      ]
     },
     "execution_count": 4,
     "metadata": {},
     "output_type": "execute_result"
    }
   ],
   "source": [
    "display(df.head(5))\n",
    "df.info()\n",
    "df[[\"quantity\", \"unit_price\", \"total_sales\"]].describe()"
   ]
  },
  {
   "cell_type": "markdown",
   "metadata": {},
   "source": [
    "## Part 2: Data Manipulation\n",
    "1. Create a new column called 'month' that extracts the month from the 'date' column.\n",
    "2. Convert the 'total_sales' column to a floating-point data type.\n",
    "3. Sort the DataFrame by 'total_sales' in descending order and display the top 3 rows."
   ]
  },
  {
   "cell_type": "code",
   "execution_count": 5,
   "metadata": {},
   "outputs": [
    {
     "data": {
      "text/html": [
       "<div>\n",
       "<style scoped>\n",
       "    .dataframe tbody tr th:only-of-type {\n",
       "        vertical-align: middle;\n",
       "    }\n",
       "\n",
       "    .dataframe tbody tr th {\n",
       "        vertical-align: top;\n",
       "    }\n",
       "\n",
       "    .dataframe thead th {\n",
       "        text-align: right;\n",
       "    }\n",
       "</style>\n",
       "<table border=\"1\" class=\"dataframe\">\n",
       "  <thead>\n",
       "    <tr style=\"text-align: right;\">\n",
       "      <th></th>\n",
       "      <th>date</th>\n",
       "      <th>product</th>\n",
       "      <th>category</th>\n",
       "      <th>quantity</th>\n",
       "      <th>unit_price</th>\n",
       "      <th>total_sales</th>\n",
       "      <th>month</th>\n",
       "    </tr>\n",
       "  </thead>\n",
       "  <tbody>\n",
       "    <tr>\n",
       "      <th>0</th>\n",
       "      <td>2023-01-15</td>\n",
       "      <td>Laptop</td>\n",
       "      <td>Electronics</td>\n",
       "      <td>5</td>\n",
       "      <td>899.99</td>\n",
       "      <td>4499.95</td>\n",
       "      <td>January</td>\n",
       "    </tr>\n",
       "    <tr>\n",
       "      <th>4</th>\n",
       "      <td>2023-01-19</td>\n",
       "      <td>Smartphone</td>\n",
       "      <td>Electronics</td>\n",
       "      <td>3</td>\n",
       "      <td>599.99</td>\n",
       "      <td>1799.97</td>\n",
       "      <td>January</td>\n",
       "    </tr>\n",
       "    <tr>\n",
       "      <th>10</th>\n",
       "      <td>2023-03-10</td>\n",
       "      <td>Smartwatch</td>\n",
       "      <td>Electronics</td>\n",
       "      <td>9</td>\n",
       "      <td>199.99</td>\n",
       "      <td>1799.91</td>\n",
       "      <td>March</td>\n",
       "    </tr>\n",
       "  </tbody>\n",
       "</table>\n",
       "</div>"
      ],
      "text/plain": [
       "         date     product     category  quantity  unit_price  total_sales  \\\n",
       "0  2023-01-15      Laptop  Electronics         5      899.99      4499.95   \n",
       "4  2023-01-19  Smartphone  Electronics         3      599.99      1799.97   \n",
       "10 2023-03-10  Smartwatch  Electronics         9      199.99      1799.91   \n",
       "\n",
       "      month  \n",
       "0   January  \n",
       "4   January  \n",
       "10    March  "
      ]
     },
     "execution_count": 5,
     "metadata": {},
     "output_type": "execute_result"
    }
   ],
   "source": [
    "df[\"month\"] = df[\"date\"].dt.month_name()\n",
    "\n",
    "# 2 is done automatically by pandas\n",
    "\n",
    "df.sort_values(\"total_sales\", ascending=False).head(3)"
   ]
  },
  {
   "cell_type": "markdown",
   "metadata": {},
   "source": [
    "## Part 3: Grouping and Aggregation\n",
    "1. Group the data by 'category' and calculate the total sales for each category.\n",
    "2. Find the product with the highest quantity sold in each category.\n",
    "3. Calculate the average unit price for each month."
   ]
  },
  {
   "cell_type": "code",
   "execution_count": 6,
   "metadata": {},
   "outputs": [
    {
     "data": {
      "text/plain": [
       "month\n",
       "February    115.99\n",
       "January     331.99\n",
       "March        85.99\n",
       "Name: unit_price, dtype: float64"
      ]
     },
     "execution_count": 6,
     "metadata": {},
     "output_type": "execute_result"
    }
   ],
   "source": [
    "df.groupby(\"category\")[\"total_sales\"].sum()\n",
    "\n",
    "df.set_index(\"product\").groupby(\"category\")[[\"quantity\"]].idxmax()\n",
    "\n",
    "df.groupby(\"month\")[\"unit_price\"].mean()"
   ]
  },
  {
   "cell_type": "markdown",
   "metadata": {},
   "source": [
    "## Part 4: Data Filtering\n",
    "1. Create a new DataFrame containing only the 'Electronics' category items.\n",
    "2. Filter the original DataFrame to show all products with a unit price greater than $100.\n",
    "3. Find all sales that occurred on weekends (assume the dataset covers a period where the 15th was a Sunday)."
   ]
  },
  {
   "cell_type": "code",
   "execution_count": 7,
   "metadata": {},
   "outputs": [
    {
     "data": {
      "text/html": [
       "<div>\n",
       "<style scoped>\n",
       "    .dataframe tbody tr th:only-of-type {\n",
       "        vertical-align: middle;\n",
       "    }\n",
       "\n",
       "    .dataframe tbody tr th {\n",
       "        vertical-align: top;\n",
       "    }\n",
       "\n",
       "    .dataframe thead th {\n",
       "        text-align: right;\n",
       "    }\n",
       "</style>\n",
       "<table border=\"1\" class=\"dataframe\">\n",
       "  <thead>\n",
       "    <tr style=\"text-align: right;\">\n",
       "      <th></th>\n",
       "      <th>date</th>\n",
       "      <th>product</th>\n",
       "      <th>category</th>\n",
       "      <th>quantity</th>\n",
       "      <th>unit_price</th>\n",
       "      <th>total_sales</th>\n",
       "      <th>month</th>\n",
       "    </tr>\n",
       "  </thead>\n",
       "  <tbody>\n",
       "    <tr>\n",
       "      <th>0</th>\n",
       "      <td>2023-01-15</td>\n",
       "      <td>Laptop</td>\n",
       "      <td>Electronics</td>\n",
       "      <td>5</td>\n",
       "      <td>899.99</td>\n",
       "      <td>4499.95</td>\n",
       "      <td>January</td>\n",
       "    </tr>\n",
       "    <tr>\n",
       "      <th>8</th>\n",
       "      <td>2023-02-04</td>\n",
       "      <td>Dress Shoes</td>\n",
       "      <td>Footwear</td>\n",
       "      <td>7</td>\n",
       "      <td>99.99</td>\n",
       "      <td>699.93</td>\n",
       "      <td>February</td>\n",
       "    </tr>\n",
       "    <tr>\n",
       "      <th>9</th>\n",
       "      <td>2023-02-05</td>\n",
       "      <td>Blender</td>\n",
       "      <td>Home Appliances</td>\n",
       "      <td>10</td>\n",
       "      <td>39.99</td>\n",
       "      <td>399.90</td>\n",
       "      <td>February</td>\n",
       "    </tr>\n",
       "    <tr>\n",
       "      <th>11</th>\n",
       "      <td>2023-03-11</td>\n",
       "      <td>Jacket</td>\n",
       "      <td>Clothing</td>\n",
       "      <td>6</td>\n",
       "      <td>79.99</td>\n",
       "      <td>479.94</td>\n",
       "      <td>March</td>\n",
       "    </tr>\n",
       "    <tr>\n",
       "      <th>12</th>\n",
       "      <td>2023-03-12</td>\n",
       "      <td>Toaster</td>\n",
       "      <td>Home Appliances</td>\n",
       "      <td>11</td>\n",
       "      <td>29.99</td>\n",
       "      <td>329.89</td>\n",
       "      <td>March</td>\n",
       "    </tr>\n",
       "  </tbody>\n",
       "</table>\n",
       "</div>"
      ],
      "text/plain": [
       "         date      product         category  quantity  unit_price  \\\n",
       "0  2023-01-15       Laptop      Electronics         5      899.99   \n",
       "8  2023-02-04  Dress Shoes         Footwear         7       99.99   \n",
       "9  2023-02-05      Blender  Home Appliances        10       39.99   \n",
       "11 2023-03-11       Jacket         Clothing         6       79.99   \n",
       "12 2023-03-12      Toaster  Home Appliances        11       29.99   \n",
       "\n",
       "    total_sales     month  \n",
       "0       4499.95   January  \n",
       "8        699.93  February  \n",
       "9        399.90  February  \n",
       "11       479.94     March  \n",
       "12       329.89     March  "
      ]
     },
     "execution_count": 7,
     "metadata": {},
     "output_type": "execute_result"
    }
   ],
   "source": [
    "only_electronics = df[df[\"category\"] == \"Electronics\"]\n",
    "\n",
    "high_unit_price = df[df[\"unit_price\"] > 100]\n",
    "\n",
    "df[df[\"date\"].dt.day_name().isin([\"Saturday\", \"Sunday\"])]"
   ]
  },
  {
   "cell_type": "markdown",
   "metadata": {},
   "source": [
    "## Part 5: Data Visualization\n",
    "1. Create a bar plot showing total sales by category.\n",
    "2. Generate a line plot displaying the trend of total sales over time.\n",
    "3. Produce a scatter plot of quantity vs. unit price, with points colored by category.\n",
    "\n",
    "Remember to include appropriate labels, titles, and legends in your visualizations."
   ]
  },
  {
   "cell_type": "code",
   "execution_count": 24,
   "metadata": {},
   "outputs": [
    {
     "data": {
      "image/png": "[encoded data removed]",
      "text/plain": [
       "<Figure size 2000x500 with 3 Axes>"
      ]
     },
     "metadata": {},
     "output_type": "display_data"
    }
   ],
   "source": [
    "fig, (ax1, ax2, ax3) = plt.subplots(1, 3, figsize=(20, 5))\n",
    "\n",
    "df.groupby(\"category\")[\"total_sales\"].sum().plot.bar(ax=ax1, title=\"Total Sales by Category\")\n",
    "\n",
    "df.plot(ax=ax2, x=\"date\", y=\"total_sales\")\n",
    "\n",
    "colors = [\"red\", \"orange\", \"yellow\", \"green\", \"blue\", \"purple\"]\n",
    "for i in df[[\"category\"]].values:\n",
    "    filtered = df[df[\"category\"] == i[0]]\n",
    "    ax3.scatter(filtered[\"quantity\"], filtered[\"unit_price\"], color=r.choice(colors))\n"
   ]
  },
  {
   "cell_type": "code",
   "execution_count": 13,
   "metadata": {},
   "outputs": [
    {
     "name": "stdout",
     "output_type": "stream",
     "text": [
      "Electronics\n",
      "Clothing\n",
      "Home Appliances\n",
      "Footwear\n",
      "Electronics\n",
      "Clothing\n",
      "Home Appliances\n",
      "Electronics\n",
      "Footwear\n",
      "Home Appliances\n",
      "Electronics\n",
      "Clothing\n",
      "Home Appliances\n",
      "Footwear\n",
      "Electronics\n"
     ]
    }
   ],
   "source": [
    "for i in df[[\"category\"]].values:\n",
    "    print(i[0])"
   ]
  }
 ],
 "metadata": {
  "kernelspec": {
   "display_name": "base",
   "language": "python",
   "name": "python3"
  },
  "language_info": {
   "codemirror_mode": {
    "name": "ipython",
    "version": 3
   },
   "file_extension": ".py",
   "mimetype": "text/x-python",
   "name": "python",
   "nbconvert_exporter": "python",
   "pygments_lexer": "ipython3",
   "version": "3.11.9"
  }
 },
 "nbformat": 4,
 "nbformat_minor": 2
}
